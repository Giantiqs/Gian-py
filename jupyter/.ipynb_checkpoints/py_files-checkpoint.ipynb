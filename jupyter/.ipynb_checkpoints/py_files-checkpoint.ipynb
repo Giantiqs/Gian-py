{
 "cells": [
  {
   "cell_type": "code",
   "execution_count": 23,
   "id": "2b70131f",
   "metadata": {},
   "outputs": [
    {
     "name": "stdout",
     "output_type": "stream",
     "text": [
      "test test test\n",
      "test test test\n",
      "\n",
      "\n",
      "test test test\n",
      "test test test\n",
      "\n",
      "gian gian gian\n",
      "kianna kianna kianna\n"
     ]
    }
   ],
   "source": [
    "# Reading file\n",
    "\n",
    "handler = open(\"test.txt\", \"r\")\n",
    "\n",
    "txt = \"\".join([word for word in handler])\n",
    "\n",
    "print(txt)"
   ]
  },
  {
   "cell_type": "code",
   "execution_count": 25,
   "id": "b21880ee",
   "metadata": {},
   "outputs": [
    {
     "name": "stdout",
     "output_type": "stream",
     "text": [
      "test test test\n",
      "test test test\n",
      "\n",
      "\n",
      "test test test\n",
      "test test test\n",
      "\n",
      "kianna kianna kianna\n"
     ]
    }
   ],
   "source": [
    "# Reading file v2 using rstrip() <= \"removes whitespaces\"\n",
    "\n",
    "handler = open(\"test.txt\", \"r\")\n",
    "\n",
    "for line in handler:\n",
    "    line = line.rstrip()\n",
    "    if not line.startswith(\"gian\"):\n",
    "        print(line)"
   ]
  },
  {
   "cell_type": "code",
   "execution_count": 2,
   "id": "1701f0a4",
   "metadata": {},
   "outputs": [
    {
     "name": "stdout",
     "output_type": "stream",
     "text": [
      "enter file name: test.txt\n",
      "test test test\n",
      "\n",
      "test test test\n",
      "\n",
      "\n",
      "\n",
      "\n",
      "\n",
      "test test test\n",
      "\n",
      "test test test\n",
      "\n",
      "\n",
      "\n",
      "gian gian gian\n",
      "\n",
      "kianna kianna kianna\n"
     ]
    }
   ],
   "source": [
    "# Entering filename \n",
    "\n",
    "inp = input(\"enter file name: \")\n",
    "\n",
    "handler = open(inp, \"r\")\n",
    "\n",
    "for word in handler:\n",
    "    print(word)"
   ]
  },
  {
   "cell_type": "code",
   "execution_count": 5,
   "id": "7cb1941d",
   "metadata": {},
   "outputs": [
    {
     "name": "stdout",
     "output_type": "stream",
     "text": [
      "Enter file name: a\n",
      "File not found\n",
      "Enter file name: ttttasda\n",
      "File not found\n",
      "Enter file name: text.txt\n",
      "File not found\n",
      "Enter file name: test.tx\n",
      "File not found\n",
      "Enter file name: test.txt\n",
      "test test test\n",
      "\n",
      "test test test\n",
      "\n",
      "\n",
      "\n",
      "\n",
      "\n",
      "test test test\n",
      "\n",
      "test test test\n",
      "\n",
      "\n",
      "\n",
      "gian gian gian\n",
      "\n",
      "kianna kianna kianna\n"
     ]
    }
   ],
   "source": [
    "# Entering file name using try catch\n",
    "\n",
    "while True:\n",
    "    try:\n",
    "        inp = input(\"Enter file name: \")\n",
    "        handler = open(inp, \"r\")\n",
    "    except:\n",
    "        print(\"File not found\")\n",
    "    else:\n",
    "        break\n",
    "\n",
    "for word in handler:\n",
    "    print(word)\n"
   ]
  },
  {
   "cell_type": "code",
   "execution_count": 9,
   "id": "878123f3",
   "metadata": {},
   "outputs": [
    {
     "name": "stdout",
     "output_type": "stream",
     "text": [
      "Write something in the file: gian\n",
      "gian\n"
     ]
    }
   ],
   "source": [
    "# Writing files \n",
    "# .write() overwrites the content of the file\n",
    "# .append() adds content to the file\n",
    "# .close() saves the file once writing is done\n",
    "\n",
    "# .write()\n",
    "\n",
    "handler = open(\"test2.txt\", \"w\")\n",
    "\n",
    "inp = input(\"Write something in the file: \")\n",
    "\n",
    "handler.write(inp)\n",
    "handler.close()\n",
    "\n",
    "handler = open(\"test2.txt\", \"r\")\n",
    "\n",
    "for words in handler:\n",
    "    print(words)"
   ]
  },
  {
   "cell_type": "code",
   "execution_count": 15,
   "id": "7dc00eb3",
   "metadata": {},
   "outputs": [
    {
     "name": "stdout",
     "output_type": "stream",
     "text": [
      "add something in the file: a\n",
      "gia\n"
     ]
    }
   ],
   "source": [
    "# .append()\n",
    "\n",
    "handler = open(\"test3.txt\", \"a\")\n",
    "\n",
    "inp = input(\"add something in the file: \")\n",
    "\n",
    "handler.write(inp)\n",
    "handler.close()\n",
    "\n",
    "handler = open(\"test3.txt\", \"r\")\n",
    "\n",
    "for words in handler:\n",
    "    print(words)"
   ]
  },
  {
   "cell_type": "code",
   "execution_count": 16,
   "id": "7a8af0c2",
   "metadata": {},
   "outputs": [],
   "source": [
    "handler = open(\"blade.jpg\", \"rb\")\n",
    "\n",
    "handler2 = open(\"blade2.jpg\", \"wb\")\n",
    "\n",
    "for bit in handler:\n",
    "    handler2.write(bit)"
   ]
  },
  {
   "cell_type": "code",
   "execution_count": null,
   "id": "1d574b56",
   "metadata": {},
   "outputs": [],
   "source": []
  }
 ],
 "metadata": {
  "kernelspec": {
   "display_name": "Python 3 (ipykernel)",
   "language": "python",
   "name": "python3"
  },
  "language_info": {
   "codemirror_mode": {
    "name": "ipython",
    "version": 3
   },
   "file_extension": ".py",
   "mimetype": "text/x-python",
   "name": "python",
   "nbconvert_exporter": "python",
   "pygments_lexer": "ipython3",
   "version": "3.10.9"
  }
 },
 "nbformat": 4,
 "nbformat_minor": 5
}
