{
 "cells": [
  {
   "cell_type": "code",
   "execution_count": 43,
   "id": "4d4bd70e",
   "metadata": {
    "scrolled": true
   },
   "outputs": [
    {
     "name": "stdout",
     "output_type": "stream",
     "text": [
      "========== Read the whole File in Python ==========\n",
      "\n",
      "\t\tLength of file: 428\n",
      "\n",
      "============== Previous File Content ==============\n",
      "\n",
      "By: Mrs. Felicidad M. Perez\n",
      "\n",
      "Ilaw kang tanglaw namin\n",
      "\n",
      "Mga puso't damdamin\n",
      "\n",
      "PLMUN ikaw parin\n",
      "\n",
      "Tangkilikin walang maliw\n",
      "\n",
      "- - - Chorus - - -\n",
      "\n",
      "PLMUN ay mahal namin (2x)\n",
      "\n",
      "Ikaw lamang ang pag-asa\n",
      "\n",
      "Sinusunod, iginagalang habang buhay\n",
      "\n",
      "PLMUN ay mahal namin (2x)\n",
      "\n",
      "Paaralang may karangalan\n",
      "\n",
      "Haligi ng kabataan\n",
      "\n",
      "Kapit bisig na tayo\n",
      "\n",
      "Tungo sa pagbabago\n",
      "\n",
      "Mga magulang umaasa\n",
      "\n",
      "Lahat ay magtagumpay\n",
      "\n",
      "(Repeat Chorus)\n",
      "\n",
      "Submitted by Kaycee Mendez\n"
     ]
    }
   ],
   "source": [
    "# Tiqui, Michael Gian M.\n",
    "# BSIT - 3D\n",
    "# Week 15 - Laboratory Exercise\n",
    "\n",
    "def print_symbols(symbol, amount = 0):\n",
    "    for i in range(amount):\n",
    "        print(symbol, end=\"\")\n",
    "        \n",
    "print_symbols(\"=\", 10)\n",
    "print(\" Read the whole File in Python \", end=\"\")\n",
    "print_symbols(\"=\", 10)\n",
    "\n",
    "handler = open(\"plmun.txt\", \"r\")\n",
    "\n",
    "content = \"\".join([word for word in handler])\n",
    "\n",
    "print(\"\\n\\n\\t\\tLength of file: {}\\n\".format(len(content)))\n",
    "\n",
    "print_symbols(\"=\", 14)\n",
    "print(\" Previous File Content \", end=\"\")\n",
    "print_symbols(\"=\", 14)\n",
    "\n",
    "print(\"\\n\\n\" + content)\n",
    "    \n",
    "handler.close()"
   ]
  },
  {
   "cell_type": "code",
   "execution_count": null,
   "id": "2b5674d3",
   "metadata": {},
   "outputs": [],
   "source": []
  }
 ],
 "metadata": {
  "kernelspec": {
   "display_name": "Python 3 (ipykernel)",
   "language": "python",
   "name": "python3"
  },
  "language_info": {
   "codemirror_mode": {
    "name": "ipython",
    "version": 3
   },
   "file_extension": ".py",
   "mimetype": "text/x-python",
   "name": "python",
   "nbconvert_exporter": "python",
   "pygments_lexer": "ipython3",
   "version": "3.10.9"
  }
 },
 "nbformat": 4,
 "nbformat_minor": 5
}
